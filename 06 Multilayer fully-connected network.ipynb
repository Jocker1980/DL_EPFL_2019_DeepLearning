{
 "cells": [
  {
   "cell_type": "markdown",
   "metadata": {},
   "source": [
    "# 06 Multilayer fully-connected network"
   ]
  },
  {
   "cell_type": "markdown",
   "metadata": {},
   "source": [
    "### For both networks - the fully-connected and the convolutional one\n",
    "\n",
    "Split the data into train, validation and test sets with respectively 3200, 800 and 1000 points.\n",
    "Train the network using small random batches of data and monitor the validation accuracy.\n",
    "Evaluate and print the test accuracy of the tuned model.\n",
    "\n",
    "#### Using the high-level OverFeat features\n",
    "\n",
    "Implement a 2-layer fully-connected network with dropout and L2 regularization.\n"
   ]
  },
  {
   "cell_type": "markdown",
   "metadata": {},
   "source": [
    "## Load data"
   ]
  },
  {
   "cell_type": "code",
   "execution_count": 1,
   "metadata": {},
   "outputs": [
    {
     "name": "stderr",
     "output_type": "stream",
     "text": [
      "C:\\Users\\Joker\\Anaconda3\\envs\\exts-aml2\\lib\\site-packages\\tensorflow\\python\\framework\\dtypes.py:458: FutureWarning: Passing (type, 1) or '1type' as a synonym of type is deprecated; in a future version of numpy, it will be understood as (type, (1,)) / '(1,)type'.\n",
      "  _np_qint8 = np.dtype([(\"qint8\", np.int8, 1)])\n",
      "C:\\Users\\Joker\\Anaconda3\\envs\\exts-aml2\\lib\\site-packages\\tensorflow\\python\\framework\\dtypes.py:459: FutureWarning: Passing (type, 1) or '1type' as a synonym of type is deprecated; in a future version of numpy, it will be understood as (type, (1,)) / '(1,)type'.\n",
      "  _np_quint8 = np.dtype([(\"quint8\", np.uint8, 1)])\n",
      "C:\\Users\\Joker\\Anaconda3\\envs\\exts-aml2\\lib\\site-packages\\tensorflow\\python\\framework\\dtypes.py:460: FutureWarning: Passing (type, 1) or '1type' as a synonym of type is deprecated; in a future version of numpy, it will be understood as (type, (1,)) / '(1,)type'.\n",
      "  _np_qint16 = np.dtype([(\"qint16\", np.int16, 1)])\n",
      "C:\\Users\\Joker\\Anaconda3\\envs\\exts-aml2\\lib\\site-packages\\tensorflow\\python\\framework\\dtypes.py:461: FutureWarning: Passing (type, 1) or '1type' as a synonym of type is deprecated; in a future version of numpy, it will be understood as (type, (1,)) / '(1,)type'.\n",
      "  _np_quint16 = np.dtype([(\"quint16\", np.uint16, 1)])\n",
      "C:\\Users\\Joker\\Anaconda3\\envs\\exts-aml2\\lib\\site-packages\\tensorflow\\python\\framework\\dtypes.py:462: FutureWarning: Passing (type, 1) or '1type' as a synonym of type is deprecated; in a future version of numpy, it will be understood as (type, (1,)) / '(1,)type'.\n",
      "  _np_qint32 = np.dtype([(\"qint32\", np.int32, 1)])\n",
      "C:\\Users\\Joker\\Anaconda3\\envs\\exts-aml2\\lib\\site-packages\\tensorflow\\python\\framework\\dtypes.py:465: FutureWarning: Passing (type, 1) or '1type' as a synonym of type is deprecated; in a future version of numpy, it will be understood as (type, (1,)) / '(1,)type'.\n",
      "  np_resource = np.dtype([(\"resource\", np.ubyte, 1)])\n"
     ]
    }
   ],
   "source": [
    "import pandas as pd\n",
    "import numpy as np\n",
    "import matplotlib.pyplot as plt\n",
    "import seaborn as sns\n",
    "from sklearn.model_selection import train_test_split\n",
    "from sklearn.preprocessing import StandardScaler\n",
    "import tensorflow as tf\n",
    "%matplotlib inline"
   ]
  },
  {
   "cell_type": "code",
   "execution_count": 9,
   "metadata": {},
   "outputs": [
    {
     "name": "stdout",
     "output_type": "stream",
     "text": [
      "Data keys dict_keys(['pixels', 'overfeat', 'labels', 'names', 'allow_pickle'])\n"
     ]
    }
   ],
   "source": [
    "# Load the data form the .npz\n",
    "with np.load('cifar4-train.npz', allow_pickle=False) as npz_file:\n",
    "    cifar4 = dict(npz_file.items())\n",
    "# Overview of the data content    \n",
    "print('Data keys {}'.format(cifar4.keys()))"
   ]
  },
  {
   "cell_type": "code",
   "execution_count": 10,
   "metadata": {},
   "outputs": [
    {
     "name": "stdout",
     "output_type": "stream",
     "text": [
      "Xo shape: (5000, 4096) Xo dtype: float32 \n",
      " y shape: (5000,) y dtype: int64 \n",
      "names: ['truck' 'car' 'airplane' 'ship']\n"
     ]
    }
   ],
   "source": [
    "# Generate the features matrices with overfeat\n",
    "Xo = cifar4['overfeat']\n",
    "y = cifar4['labels']\n",
    "names = cifar4['names']\n",
    "\n",
    "# Explore data, verify the dtype of X -> float32\n",
    "print('Xo shape:', Xo.shape,'Xo dtype:', Xo.dtype,\n",
    "      '\\n y shape:', y.shape,'y dtype:', y.dtype,\n",
    "      '\\nnames:', names)"
   ]
  },
  {
   "cell_type": "code",
   "execution_count": 11,
   "metadata": {},
   "outputs": [
    {
     "name": "stdout",
     "output_type": "stream",
     "text": [
      "Train: (3200, 4096) (3200,) \n",
      "Valid: (800, 4096) (800,) \n",
      "Test: (1000, 4096) (1000,)\n"
     ]
    }
   ],
   "source": [
    "# Partition data set to be able to assess model performance and over/under fitting issues\n",
    "from sklearn.model_selection import train_test_split\n",
    "from sklearn.preprocessing import StandardScaler\n",
    "    \n",
    "# Create train set\n",
    "X_train, X_test, y_train, y_test = train_test_split(\n",
    "    Xo, y, test_size=1800, random_state=0)\n",
    "\n",
    "# Create validation and test sets\n",
    "X_valid, X_test, y_valid, y_test = train_test_split(\n",
    "    X_test, y_test, test_size=1000, random_state=0)\n",
    "\n",
    "# Rescale input data for SGD algorithm sensitivity\n",
    "scaler = StandardScaler()\n",
    "# Fit on train data set and transform immediately\n",
    "X_train = scaler.fit_transform(X_train)\n",
    "# Apply the fitting from train to test and validation (ensure no information leak)\n",
    "X_valid = scaler.transform(X_valid)\n",
    "X_test = scaler.transform(X_test)\n",
    "\n",
    "print('Train:', X_train.shape, y_train.shape,\n",
    "     '\\nValid:', X_valid.shape, y_valid.shape,\n",
    "     '\\nTest:', X_test.shape, y_test.shape)"
   ]
  },
  {
   "cell_type": "code",
   "execution_count": 12,
   "metadata": {},
   "outputs": [],
   "source": [
    "# Create a batch generator to be able to send the training set by batch,\n",
    "# and in a random manner between each epoch\n",
    "\n",
    "# Batch generator\n",
    "def get_batches(X, y, batch_size):\n",
    "    # Shuffle X,y\n",
    "    shuffled_idx = np.arange(len(y)) # 1,2,...,n\n",
    "    np.random.shuffle(shuffled_idx)\n",
    "    \n",
    "    # Enumerate indexes by steps of batch_size\n",
    "    # i: 0, b, 2b, 3b, 4b, .. where b is the batch size\n",
    "    for i in range(0, len(y), batch_size):\n",
    "        # Batch indexes\n",
    "        batch_idx = shuffled_idx[i:i+batch_size]\n",
    "        yield X[batch_idx], y[batch_idx]"
   ]
  },
  {
   "cell_type": "markdown",
   "metadata": {},
   "source": [
    "## Create a multilayer fully-connected network architecture (graph)"
   ]
  },
  {
   "cell_type": "code",
   "execution_count": 69,
   "metadata": {},
   "outputs": [],
   "source": [
    "# Create the graph\n",
    "graph = tf.Graph()\n",
    "\n",
    "with graph.as_default():\n",
    "    # Create placeholders\n",
    "    X = tf.placeholder(dtype=tf.float32, shape=[None, X_train.shape[1]])\n",
    "    y = tf.placeholder(dtype=tf.int32, shape=[None])\n",
    "\n",
    "    # Hidden layer with 32 units\n",
    "    hidden = tf.layers.dense(\n",
    "        X, 32, activation=tf.nn.relu, # ReLU\n",
    "        kernel_initializer=tf.variance_scaling_initializer(scale=2, seed=0),\n",
    "        bias_initializer=tf.zeros_initializer(),\n",
    "        name='hidden'\n",
    "    )\n",
    "\n",
    "    # Output layer\n",
    "    logits = tf.layers.dense(\n",
    "        hidden, 4, activation=None, # No activation function\n",
    "        kernel_initializer=tf.variance_scaling_initializer(scale=1, seed=0),\n",
    "        bias_initializer=tf.zeros_initializer(),\n",
    "        name='output'\n",
    "    )\n",
    "    \n",
    "    # Get weights/biases of the hidden layer\n",
    "    with tf.variable_scope('hidden', reuse=True):\n",
    "        W1 = tf.get_variable('kernel')\n",
    "        b1 = tf.get_variable('bias')\n",
    "\n",
    "    # Get weights/biases of the output layer\n",
    "    with tf.variable_scope('output', reuse=True):\n",
    "        W2 = tf.get_variable('kernel')\n",
    "        b2 = tf.get_variable('bias')"
   ]
  },
  {
   "cell_type": "code",
   "execution_count": 70,
   "metadata": {},
   "outputs": [
    {
     "name": "stdout",
     "output_type": "stream",
     "text": [
      "<tf.Variable 'hidden/kernel:0' shape=(4096, 32) dtype=float32_ref>\n",
      "<tf.Variable 'hidden/bias:0' shape=(32,) dtype=float32_ref>\n",
      "<tf.Variable 'output/kernel:0' shape=(32, 4) dtype=float32_ref>\n",
      "<tf.Variable 'output/bias:0' shape=(4,) dtype=float32_ref>\n"
     ]
    }
   ],
   "source": [
    "# Verify the architecture (graph)\n",
    "with graph.as_default():\n",
    "    # Get variables in the graph\n",
    "    for v in tf.trainable_variables():\n",
    "        print(v)"
   ]
  },
  {
   "cell_type": "markdown",
   "metadata": {},
   "source": [
    "## Loss function with dropout and regularization L2"
   ]
  },
  {
   "cell_type": "code",
   "execution_count": 71,
   "metadata": {},
   "outputs": [],
   "source": [
    "with graph.as_default():\n",
    "    \n",
    "    # Create training placeholder\n",
    "    training = tf.placeholder(dtype=tf.bool)\n",
    "    \n",
    "    # Applying dropout to reduce overfitting\n",
    "    inputs = tf.layers.dropout(X, rate=0.5, seed=0.5, training=training)\n",
    "    hidden = tf.layers.dropout(hidden, rate=0.5, seed=0.5, training=training) \n",
    "    \n",
    "    # Mean cross-entropy\n",
    "    mean_ce = tf.reduce_mean(\n",
    "        tf.nn.sparse_softmax_cross_entropy_with_logits(\n",
    "            labels=y, logits=logits))\n",
    "    \n",
    "    # Learning rate placeholder for gradient descent\n",
    "    lr = tf.placeholder(dtype=tf.float32)\n",
    "    # Create the optimizer\n",
    "    gd = tf.train.GradientDescentOptimizer(learning_rate=lr)\n",
    "    \n",
    "    # L2 terms\n",
    "    l2_term_W1 = tf.nn.l2_loss(W1)\n",
    "    l2_term_W2 = tf.nn.l2_loss(W2)\n",
    "    \n",
    "    # Regularization strength\n",
    "    alpha = tf.placeholder(dtype=tf.float32)\n",
    "    \n",
    "    # Loss function\n",
    "    loss = mean_ce + alpha * (l2_term_W1 + l2_term_W2)\n",
    "        \n",
    "    # Create a training operation\n",
    "    train_op = gd.minimize(loss)\n",
    "    \n",
    "    # Computing predictions/accuracy\n",
    "    predictions = tf.argmax(logits, axis=1, output_type=tf.int32)\n",
    "    is_correct = tf.equal(y, predictions)\n",
    "    accuracy = tf.reduce_mean(tf.cast(is_correct, dtype=tf.float32))"
   ]
  },
  {
   "cell_type": "markdown",
   "metadata": {},
   "source": [
    "## Train network"
   ]
  },
  {
   "cell_type": "code",
   "execution_count": 72,
   "metadata": {},
   "outputs": [
    {
     "name": "stdout",
     "output_type": "stream",
     "text": [
      "Epoch 1 - valid: 0.746 train: 0.603 (mean)\n",
      "Epoch 2 - valid: 0.796 train: 0.791 (mean)\n",
      "Epoch 3 - valid: 0.812 train: 0.818 (mean)\n",
      "Epoch 4 - valid: 0.811 train: 0.838 (mean)\n",
      "Epoch 5 - valid: 0.826 train: 0.850 (mean)\n",
      "Epoch 6 - valid: 0.822 train: 0.857 (mean)\n",
      "Epoch 7 - valid: 0.824 train: 0.865 (mean)\n",
      "Epoch 8 - valid: 0.817 train: 0.873 (mean)\n",
      "Epoch 9 - valid: 0.830 train: 0.876 (mean)\n",
      "Epoch 10 - valid: 0.826 train: 0.879 (mean)\n",
      "Epoch 11 - valid: 0.831 train: 0.884 (mean)\n",
      "Epoch 12 - valid: 0.835 train: 0.886 (mean)\n",
      "Epoch 13 - valid: 0.832 train: 0.891 (mean)\n",
      "Epoch 14 - valid: 0.831 train: 0.891 (mean)\n",
      "Epoch 15 - valid: 0.834 train: 0.895 (mean)\n",
      "Epoch 16 - valid: 0.832 train: 0.897 (mean)\n",
      "Epoch 17 - valid: 0.837 train: 0.899 (mean)\n",
      "Epoch 18 - valid: 0.835 train: 0.903 (mean)\n",
      "Epoch 19 - valid: 0.829 train: 0.903 (mean)\n",
      "Epoch 20 - valid: 0.836 train: 0.905 (mean)\n",
      "Multilayer fully-connected network accuracy test  accuracy: 0.810\n"
     ]
    }
   ],
   "source": [
    "# Train and validation accuracy after each epoch\n",
    "\n",
    "# Creatre list of intermediate accuracy socre for train and validation\n",
    "train_acc_values = []\n",
    "valid_acc_values = []\n",
    "\n",
    "with tf.Session(graph=graph) as sess:\n",
    "    # Initialize variables\n",
    "    sess.run(tf.global_variables_initializer())\n",
    "\n",
    "    # Set seed\n",
    "    np.random.seed(0)\n",
    "\n",
    "    # Train several epochs\n",
    "    for epoch in range(20):\n",
    "        # Accuracy values (train) after each batch\n",
    "        batch_acc = []\n",
    "\n",
    "        # Get batches of data\n",
    "        for X_batch, y_batch in get_batches(X_train, y_train, 200):\n",
    "            # Run training and evaluate accuracy\n",
    "            _, acc_value = sess.run([train_op, accuracy], feed_dict={\n",
    "                X: X_batch,\n",
    "                y: y_batch,\n",
    "                lr: 0.015, # Learning rate\n",
    "                training: True,\n",
    "                alpha: 0.1\n",
    "            })\n",
    "\n",
    "            # Save accuracy (current batch)\n",
    "            batch_acc.append(acc_value)\n",
    "\n",
    "        # Evaluate validation accuracy\n",
    "        valid_acc = sess.run(accuracy, feed_dict={\n",
    "            X: X_valid,\n",
    "            y: y_valid, \n",
    "            training:False\n",
    "        })\n",
    "        \n",
    "        valid_acc_values.append(valid_acc)\n",
    "\n",
    "        # Also save train accuracy (we will use the mean batch score)\n",
    "        train_acc_values.append(np.mean(batch_acc))\n",
    "\n",
    "        # Print progress\n",
    "        print('Epoch {} - valid: {:.3f} train: {:.3f} (mean)'.format(\n",
    "            epoch+1, valid_acc, np.mean(batch_acc)\n",
    "        ))\n",
    "        \n",
    "    # Evaluate test accuracy\n",
    "    test_acc = sess.run(accuracy, feed_dict={\n",
    "        X: X_test,\n",
    "        y: y_test, \n",
    "            training: False\n",
    "    })    \n",
    "    print('Multilayer fully-connected network accuracy test  accuracy: {:.3f}'.format(test_acc))\n",
    "\n",
    "    # Weights of the hidden and output layers (optional)\n",
    "    weights_hidden = W1.eval()\n",
    "    weights_output = W2.eval()"
   ]
  },
  {
   "cell_type": "markdown",
   "metadata": {},
   "source": [
    "## Plot training and validation accuracy curves"
   ]
  },
  {
   "cell_type": "code",
   "execution_count": 73,
   "metadata": {},
   "outputs": [
    {
     "data": {
      "image/png": "[encoded data removed]",
      "text/plain": [
       "<matplotlib.figure.Figure at 0x1b6bcb00>"
      ]
     },
     "metadata": {},
     "output_type": "display_data"
    }
   ],
   "source": [
    "sns.set()\n",
    "fig = plt.figure(figsize=(17, 10))\n",
    "# Plot training curves\n",
    "plt.plot(train_acc_values, label='train')\n",
    "plt.plot(valid_acc_values, label='valid')\n",
    "plt.title('Validation accuracy {:.3f} (mean last 3)'.format(\n",
    "    np.mean(valid_acc_values[-3:]) # last three values\n",
    "))\n",
    "plt.xlabel('epoch')\n",
    "plt.ylabel('accuracy')\n",
    "plt.legend()\n",
    "plt.show()"
   ]
  },
  {
   "cell_type": "markdown",
   "metadata": {},
   "source": [
    "The network is overfitting quite early but still overpass 80% that is a good score."
   ]
  }
 ],
 "metadata": {
  "kernelspec": {
   "display_name": "Python [conda env:exts-aml2]",
   "language": "python",
   "name": "conda-env-exts-aml2-py"
  },
  "language_info": {
   "codemirror_mode": {
    "name": "ipython",
    "version": 3
   },
   "file_extension": ".py",
   "mimetype": "text/x-python",
   "name": "python",
   "nbconvert_exporter": "python",
   "pygments_lexer": "ipython3",
   "version": "3.6.4"
  }
 },
 "nbformat": 4,
 "nbformat_minor": 2
}
