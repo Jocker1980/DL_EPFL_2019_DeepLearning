{
 "cells": [
  {
   "cell_type": "markdown",
   "metadata": {},
   "source": [
    "# 07 Convolutional neural network"
   ]
  },
  {
   "cell_type": "markdown",
   "metadata": {},
   "source": [
    "## Load data"
   ]
  },
  {
   "cell_type": "markdown",
   "metadata": {},
   "source": [
    "### For both networks - the fully-connected and the convolutional one\n",
    "\n",
    "Split the data into train, validation and test sets with respectively 3200, 800 and 1000 points.\n",
    "Train the network using small random batches of data and monitor the validation accuracy.\n",
    "Evaluate and print the test accuracy of the tuned model.\n",
    "\n",
    "#### Using the high-level OverFeat features\n",
    "\n",
    "Implement a convolutional neural network.\n",
    "Plot the trained weights of the kernels from the first convolutional layer."
   ]
  },
  {
   "cell_type": "code",
   "execution_count": 6,
   "metadata": {},
   "outputs": [],
   "source": [
    "import pandas as pd\n",
    "import numpy as np\n",
    "import matplotlib.pyplot as plt\n",
    "import seaborn as sns\n",
    "from sklearn.model_selection import train_test_split\n",
    "from sklearn.preprocessing import StandardScaler\n",
    "import tensorflow as tf\n",
    "%matplotlib inline"
   ]
  },
  {
   "cell_type": "code",
   "execution_count": 7,
   "metadata": {},
   "outputs": [
    {
     "name": "stdout",
     "output_type": "stream",
     "text": [
      "Data keys dict_keys(['pixels', 'overfeat', 'labels', 'names', 'allow_pickle'])\n"
     ]
    }
   ],
   "source": [
    "# Load the data form the .npz\n",
    "with np.load('cifar4-train.npz', allow_pickle=False) as npz_file:\n",
    "    cifar4 = dict(npz_file.items())\n",
    "# Overview of the data content     \n",
    "print('Data keys {}'.format(cifar4.keys()))"
   ]
  },
  {
   "cell_type": "code",
   "execution_count": 8,
   "metadata": {},
   "outputs": [],
   "source": [
    "# Convert pixels into floating point numbers\n",
    "data = cifar4['pixels'].astype(np.float32)\n",
    "\n",
    "# Rescale pixel values between -0.5 and 0.5\n",
    "data = (data - 128) / 255"
   ]
  },
  {
   "cell_type": "code",
   "execution_count": 9,
   "metadata": {},
   "outputs": [
    {
     "name": "stdout",
     "output_type": "stream",
     "text": [
      "Train: (3200, 32, 32, 3) (3200,)\n",
      "Valid: (800, 32, 32, 3) (800,)\n",
      "Test: (1000, 32, 32, 3) (1000,)\n"
     ]
    }
   ],
   "source": [
    "# Partition data set to be able to assess model performance and over/under fitting issues\n",
    "# Create train set\n",
    "X_train, X_test, y_train, y_test = train_test_split(\n",
    "    # Reshape images (32 by 32)\n",
    "    data.reshape(-1, 32, 32, 3), # RGB\n",
    "    cifar4['labels'],\n",
    "    test_size=1800, random_state=0\n",
    ")\n",
    "\n",
    "# Create validation and test sets\n",
    "X_valid, X_test, y_valid, y_test = train_test_split(\n",
    "    X_test, y_test, test_size=1000, random_state=0)\n",
    "\n",
    "print('Train:', X_train.shape, y_train.shape)\n",
    "print('Valid:', X_valid.shape, y_valid.shape)\n",
    "print('Test:', X_test.shape, y_test.shape)"
   ]
  },
  {
   "cell_type": "code",
   "execution_count": 10,
   "metadata": {},
   "outputs": [],
   "source": [
    "# Create a batch generator to be able to send the training set by batch,\n",
    "# and in a random manner between each epoch\n",
    "\n",
    "# Batch generator\n",
    "def get_batches(X, y, batch_size):\n",
    "    # Shuffle X,y\n",
    "    shuffled_idx = np.arange(len(y)) # 1,2,...,n\n",
    "    np.random.shuffle(shuffled_idx)\n",
    "    \n",
    "    # Enumerate indexes by steps of batch_size\n",
    "    # i: 0, b, 2b, 3b, 4b, .. where b is the batch size\n",
    "    for i in range(0, len(y), batch_size):\n",
    "        # Batch indexes\n",
    "        batch_idx = shuffled_idx[i:i+batch_size]\n",
    "        yield X[batch_idx], y[batch_idx]"
   ]
  },
  {
   "cell_type": "markdown",
   "metadata": {},
   "source": [
    "## Create a ConvNet architecture (graph)"
   ]
  },
  {
   "cell_type": "code",
   "execution_count": 11,
   "metadata": {
    "scrolled": false
   },
   "outputs": [
    {
     "name": "stdout",
     "output_type": "stream",
     "text": [
      "input: (?, 32, 32, 3)\n",
      "Convolutional layer 1: (?, 16, 16, 64)\n",
      "Maxpool 1: (?, 8, 8, 64)\n",
      "Convolutional layer 2: (?, 8, 8, 64)\n",
      "Maxpool 2: (?, 4, 4, 64)\n",
      "Flatten: (?, 1024)\n",
      "Dropout: (?, 1024)\n",
      "Fully-connected layer: (?, 256)\n",
      "Output layer: (?, 10)\n"
     ]
    }
   ],
   "source": [
    "# Create new graph\n",
    "graph = tf.Graph()\n",
    "\n",
    "with graph.as_default():\n",
    "    # Placeholders\n",
    "    X = tf.placeholder(dtype=tf.float32, shape=[None, 32, 32, 3])\n",
    "    y = tf.placeholder(dtype=tf.int32, shape=[None])\n",
    "    print ('input:', X.shape)\n",
    "    \n",
    "    # Convolutional layer 1\n",
    "    conv1 = tf.layers.conv2d(\n",
    "        X, # Input data\n",
    "        filters=64, # 64 filters\n",
    "        kernel_size=(5, 5), # Kernel size: 5x5\n",
    "        strides=(2, 2), # Stride: 2\n",
    "        padding='SAME', # \"same\" padding\n",
    "        activation=tf.nn.relu, # ReLU\n",
    "        kernel_initializer=tf.truncated_normal_initializer(\n",
    "            stddev=0.01, seed=0), # Small standard deviation\n",
    "        name='conv1' # Add name\n",
    "    )\n",
    "    print('Convolutional layer 1:', conv1.shape)\n",
    "    \n",
    "    # Max pooling layer 1\n",
    "    pool1 = tf.layers.max_pooling2d(\n",
    "        conv1, # Convolution output\n",
    "        pool_size=(2, 2), # Pool size: 2\n",
    "        strides=(2, 2), # Stride: 2\n",
    "        padding='SAME' # \"same\" padding\n",
    "    )\n",
    "    print('Maxpool 1:', pool1.shape)\n",
    "    \n",
    "    # Convolutional layer 2\n",
    "    conv2 = tf.layers.conv2d(\n",
    "        pool1, # Max pooling output\n",
    "        filters=64, # 64 filters\n",
    "        kernel_size=(3, 3), # Kernel size: 3x3\n",
    "        strides=(1, 1), # Stride: 1\n",
    "        padding='SAME', # \"same\" padding\n",
    "        activation=tf.nn.relu, # ReLU\n",
    "        kernel_initializer=tf.truncated_normal_initializer(\n",
    "            stddev=0.01, seed=0), # Small standard deviation\n",
    "        name='conv2' # Add name\n",
    "    )\n",
    "    print('Convolutional layer 2:', conv2.shape)\n",
    "\n",
    "    # Max pooling layer 2 (2x2, stride: 2)\n",
    "    pool2 = tf.layers.max_pooling2d(\n",
    "        conv2, pool_size=(2, 2), strides=(2, 2), padding='SAME')\n",
    "    print('Maxpool 2:', pool2.shape)\n",
    "    \n",
    "    # Flatten output\n",
    "    flat_output = tf.contrib.layers.flatten(pool2)\n",
    "    print('Flatten:',flat_output.shape)\n",
    "    \n",
    "    # Apply dropout\n",
    "    training = tf.placeholder(dtype=tf.bool) # Create training placeholder\n",
    "    flat_output = tf.layers.dropout(\n",
    "        flat_output, rate=0.5, seed=0, training=training)\n",
    "    print('Dropout:', flat_output.shape)\n",
    "    \n",
    "    # Fully connected layer\n",
    "    fc1 = tf.layers.dense(\n",
    "        flat_output, 256, # 256 hidden units\n",
    "        activation=tf.nn.relu, # ReLU\n",
    "        kernel_initializer=tf.variance_scaling_initializer(scale=2, seed=0),\n",
    "        bias_initializer=tf.zeros_initializer()\n",
    "    )\n",
    "    print('Fully-connected layer:', fc1.shape)\n",
    "    \n",
    "    # Output layer\n",
    "    logits = tf.layers.dense(\n",
    "        fc1, 10, # Output units: 10, One output unit per category\n",
    "        activation=None, # No activation function\n",
    "        kernel_initializer=tf.variance_scaling_initializer(scale=1, seed=0),\n",
    "        bias_initializer=tf.zeros_initializer()\n",
    "    )\n",
    "    print('Output layer:', logits.shape)\n",
    "    \n",
    "     # Kernel of the 1st conv. layer\n",
    "    with tf.variable_scope('conv1', reuse=True):\n",
    "        conv_kernels = tf.get_variable('kernel')\n",
    "\n",
    "    # Mean cross-entropy\n",
    "    mean_ce = tf.reduce_mean(\n",
    "        tf.nn.sparse_softmax_cross_entropy_with_logits(\n",
    "            labels=y, logits=logits))\n",
    "\n",
    "    # Adam optimizer\n",
    "    lr = tf.placeholder(dtype=tf.float32)\n",
    "    gd = tf.train.AdamOptimizer(learning_rate=lr)\n",
    "    \n",
    "    # L2 term\n",
    "    l2_term = tf.nn.l2_loss(conv_kernels)\n",
    "    # Regularization strength\n",
    "    alpha = tf.placeholder(dtype=tf.float32)\n",
    "    # Loss function\n",
    "    loss = mean_ce + alpha * l2_term\n",
    "\n",
    "    # Training operation\n",
    "    train_op = gd.minimize(loss)\n",
    "\n",
    "    # Compute predictions and accuracy\n",
    "    predictions = tf.argmax(logits, axis=1, output_type=tf.int32)\n",
    "    is_correct = tf.equal(y, predictions)\n",
    "    accuracy = tf.reduce_mean(tf.cast(is_correct, dtype=tf.float32))"
   ]
  },
  {
   "cell_type": "code",
   "execution_count": 12,
   "metadata": {},
   "outputs": [
    {
     "name": "stdout",
     "output_type": "stream",
     "text": [
      "<tf.Variable 'conv1/kernel:0' shape=(5, 5, 3, 64) dtype=float32_ref>\n",
      "<tf.Variable 'conv1/bias:0' shape=(64,) dtype=float32_ref>\n",
      "<tf.Variable 'conv2/kernel:0' shape=(3, 3, 64, 64) dtype=float32_ref>\n",
      "<tf.Variable 'conv2/bias:0' shape=(64,) dtype=float32_ref>\n",
      "<tf.Variable 'dense/kernel:0' shape=(1024, 256) dtype=float32_ref>\n",
      "<tf.Variable 'dense/bias:0' shape=(256,) dtype=float32_ref>\n",
      "<tf.Variable 'dense_1/kernel:0' shape=(256, 10) dtype=float32_ref>\n",
      "<tf.Variable 'dense_1/bias:0' shape=(10,) dtype=float32_ref>\n"
     ]
    }
   ],
   "source": [
    "with graph.as_default():\n",
    "    # Get variables in the graph\n",
    "    for v in tf.trainable_variables():\n",
    "        print(v)"
   ]
  },
  {
   "cell_type": "markdown",
   "metadata": {},
   "source": [
    "## Train the ConvNet"
   ]
  },
  {
   "cell_type": "code",
   "execution_count": 15,
   "metadata": {
    "scrolled": false
   },
   "outputs": [
    {
     "name": "stdout",
     "output_type": "stream",
     "text": [
      "Epoch 1 - valid: 0.349 train: 0.270 (mean)\n",
      "Epoch 2 - valid: 0.442 train: 0.418 (mean)\n",
      "Epoch 3 - valid: 0.510 train: 0.471 (mean)\n",
      "Epoch 4 - valid: 0.500 train: 0.488 (mean)\n",
      "Epoch 5 - valid: 0.517 train: 0.492 (mean)\n",
      "Epoch 6 - valid: 0.520 train: 0.520 (mean)\n",
      "Epoch 7 - valid: 0.531 train: 0.525 (mean)\n",
      "Epoch 8 - valid: 0.554 train: 0.530 (mean)\n",
      "Epoch 9 - valid: 0.558 train: 0.541 (mean)\n",
      "Epoch 10 - valid: 0.560 train: 0.544 (mean)\n",
      "Epoch 11 - valid: 0.570 train: 0.555 (mean)\n",
      "Epoch 12 - valid: 0.574 train: 0.570 (mean)\n",
      "Epoch 13 - valid: 0.577 train: 0.551 (mean)\n",
      "Epoch 14 - valid: 0.587 train: 0.573 (mean)\n",
      "Epoch 15 - valid: 0.572 train: 0.575 (mean)\n",
      "Epoch 16 - valid: 0.594 train: 0.582 (mean)\n",
      "Epoch 17 - valid: 0.620 train: 0.588 (mean)\n",
      "Epoch 18 - valid: 0.613 train: 0.601 (mean)\n",
      "Epoch 19 - valid: 0.594 train: 0.598 (mean)\n",
      "Epoch 20 - valid: 0.625 train: 0.611 (mean)\n",
      "Epoch 21 - valid: 0.624 train: 0.595 (mean)\n",
      "Epoch 22 - valid: 0.642 train: 0.617 (mean)\n",
      "Epoch 23 - valid: 0.635 train: 0.627 (mean)\n",
      "Epoch 24 - valid: 0.630 train: 0.620 (mean)\n",
      "Epoch 25 - valid: 0.659 train: 0.618 (mean)\n",
      "Epoch 26 - valid: 0.654 train: 0.642 (mean)\n",
      "Epoch 27 - valid: 0.634 train: 0.634 (mean)\n",
      "Epoch 28 - valid: 0.640 train: 0.643 (mean)\n",
      "Epoch 29 - valid: 0.641 train: 0.656 (mean)\n",
      "Epoch 30 - valid: 0.647 train: 0.640 (mean)\n",
      "Epoch 31 - valid: 0.634 train: 0.643 (mean)\n",
      "Epoch 32 - valid: 0.663 train: 0.668 (mean)\n",
      "Epoch 33 - valid: 0.655 train: 0.662 (mean)\n",
      "Epoch 34 - valid: 0.678 train: 0.669 (mean)\n",
      "Epoch 35 - valid: 0.688 train: 0.677 (mean)\n",
      "Epoch 36 - valid: 0.689 train: 0.686 (mean)\n",
      "Epoch 37 - valid: 0.683 train: 0.696 (mean)\n",
      "Epoch 38 - valid: 0.686 train: 0.699 (mean)\n",
      "Epoch 39 - valid: 0.690 train: 0.699 (mean)\n",
      "Epoch 40 - valid: 0.701 train: 0.705 (mean)\n",
      "Epoch 41 - valid: 0.706 train: 0.707 (mean)\n",
      "Epoch 42 - valid: 0.699 train: 0.718 (mean)\n",
      "Epoch 43 - valid: 0.714 train: 0.711 (mean)\n",
      "Epoch 44 - valid: 0.700 train: 0.714 (mean)\n",
      "Epoch 45 - valid: 0.707 train: 0.716 (mean)\n",
      "Epoch 46 - valid: 0.709 train: 0.724 (mean)\n",
      "Epoch 47 - valid: 0.720 train: 0.721 (mean)\n",
      "Epoch 48 - valid: 0.728 train: 0.735 (mean)\n",
      "Epoch 49 - valid: 0.712 train: 0.727 (mean)\n",
      "Epoch 50 - valid: 0.712 train: 0.731 (mean)\n",
      "Epoch 51 - valid: 0.733 train: 0.744 (mean)\n",
      "Epoch 52 - valid: 0.701 train: 0.732 (mean)\n",
      "Epoch 53 - valid: 0.704 train: 0.738 (mean)\n",
      "Epoch 54 - valid: 0.719 train: 0.734 (mean)\n",
      "Epoch 55 - valid: 0.720 train: 0.756 (mean)\n",
      "Epoch 56 - valid: 0.716 train: 0.754 (mean)\n",
      "Epoch 57 - valid: 0.715 train: 0.757 (mean)\n",
      "Epoch 58 - valid: 0.720 train: 0.772 (mean)\n",
      "Epoch 59 - valid: 0.736 train: 0.769 (mean)\n",
      "Epoch 60 - valid: 0.733 train: 0.760 (mean)\n",
      "Convolutional network test accuracy: 0.724\n"
     ]
    }
   ],
   "source": [
    "# Validation accuracy\n",
    "\n",
    "# Train and validation accuracy after each epoch\n",
    "valid_acc_values = []\n",
    "train_acc_values = []\n",
    "\n",
    "with tf.Session(graph=graph) as sess:\n",
    "    # Initialize variables\n",
    "    sess.run(tf.global_variables_initializer())\n",
    "\n",
    "    # Set seed\n",
    "    np.random.seed(0)\n",
    "\n",
    "    # Train several epochs\n",
    "    for epoch in range(60):\n",
    "        # Accuracy values (train) after each batch\n",
    "        batch_acc = []\n",
    "\n",
    "        # Get batches of data\n",
    "        for X_batch, y_batch in get_batches(X_train, y_train, 200):\n",
    "            # Run training and evaluate accuracy\n",
    "            _, acc_value = sess.run([train_op, accuracy], feed_dict={\n",
    "                X: X_batch,\n",
    "                y: y_batch,\n",
    "                lr: 0.001, # Learning rate\n",
    "                training: True, # Apply dropout\n",
    "                alpha: 0.8 # Regularization strength\n",
    "            })\n",
    "\n",
    "            # Save accuracy (current batch)\n",
    "            batch_acc.append(acc_value)\n",
    "\n",
    "        # Evaluate validation accuracy\n",
    "        valid_acc = sess.run(accuracy, feed_dict={\n",
    "            X: X_valid,\n",
    "            y: y_valid,\n",
    "            training: False # Do not apply dropout\n",
    "        })\n",
    "        valid_acc_values.append(valid_acc)\n",
    "        # Also save train accuracy (we will use the mean batch score)\n",
    "        train_acc_values.append(np.mean(batch_acc))\n",
    "\n",
    "        # Print progress\n",
    "        print('Epoch {} - valid: {:.3f} train: {:.3f} (mean)'.format(\n",
    "            epoch+1, valid_acc, np.mean(batch_acc)\n",
    "        ))\n",
    "\n",
    "    # Get 1st conv. layer kernels\n",
    "    kernels = conv_kernels.eval()\n",
    "    \n",
    "    # Evaluate test accuracy\n",
    "    test_acc = sess.run(accuracy, feed_dict={\n",
    "        X: X_test,\n",
    "        y: y_test, \n",
    "            training: False\n",
    "    })\n",
    "    print('Convolutional network test accuracy: {:.3f}'.format(test_acc))"
   ]
  },
  {
   "cell_type": "markdown",
   "metadata": {},
   "source": [
    "## Display assessment curves"
   ]
  },
  {
   "cell_type": "code",
   "execution_count": 14,
   "metadata": {},
   "outputs": [
    {
     "data": {
      "image/png": "[encoded data removed]",
      "text/plain": [
       "<matplotlib.figure.Figure at 0x582fc50>"
      ]
     },
     "metadata": {
      "needs_background": "light"
     },
     "output_type": "display_data"
    }
   ],
   "source": [
    "# Plot accuracy values\n",
    "fig = plt.figure(figsize=(17, 12))\n",
    "sns.set()\n",
    "# Plot training curves\n",
    "plt.plot(train_acc_values, label='train')\n",
    "plt.plot(valid_acc_values, label='valid')\n",
    "plt.title('Validation accuracy: {:.3f} (mean last 3)'.format(\n",
    "    np.mean(valid_acc_values[-3:]) # last three values\n",
    "))\n",
    "plt.xlabel('Epoch')\n",
    "plt.ylabel('Accuracy')\n",
    "plt.legend()\n",
    "plt.show()"
   ]
  },
  {
   "cell_type": "markdown",
   "metadata": {},
   "source": [
    "## Visualize kernels"
   ]
  },
  {
   "cell_type": "code",
   "execution_count": 10,
   "metadata": {},
   "outputs": [
    {
     "data": {
      "image/png": "[encoded data removed]",
      "text/plain": [
       "<matplotlib.figure.Figure at 0x1c1bd518>"
      ]
     },
     "metadata": {
      "needs_background": "light"
     },
     "output_type": "display_data"
    }
   ],
   "source": [
    "# Create a grid of subplots\n",
    "fig, axes = plt.subplots(nrows=8, ncols=8, figsize=(17, 17))\n",
    "\n",
    "# Remove gaps between suplots\n",
    "plt.subplots_adjust(wspace=0, hspace=0)\n",
    "\n",
    "# Plot the 64 kernels from the first convolutional layer\n",
    "for i, axis in enumerate(axes.flatten()):\n",
    "    # Get i-th kernel (shape: 5x5x3)\n",
    "    kernel = kernels[:, :, :, i].copy()\n",
    "    \n",
    "    # Rescale values between 0 and 1\n",
    "    kernel -= kernel.min() # Rescale between 0 and max\n",
    "    kernel /= kernel.max() # Rescale between 0 and 1\n",
    "    \n",
    "    # Plot kernel with imshow()\n",
    "    axis.imshow(kernel)\n",
    "    axis.get_xaxis().set_visible(False) # disable x-axis\n",
    "    axis.get_yaxis().set_visible(False) # disable y-axis\n",
    "    \n",
    "plt.show()"
   ]
  }
 ],
 "metadata": {
  "kernelspec": {
   "display_name": "Python [conda env:exts-aml2]",
   "language": "python",
   "name": "conda-env-exts-aml2-py"
  },
  "language_info": {
   "codemirror_mode": {
    "name": "ipython",
    "version": 3
   },
   "file_extension": ".py",
   "mimetype": "text/x-python",
   "name": "python",
   "nbconvert_exporter": "python",
   "pygments_lexer": "ipython3",
   "version": "3.6.4"
  }
 },
 "nbformat": 4,
 "nbformat_minor": 2
}
